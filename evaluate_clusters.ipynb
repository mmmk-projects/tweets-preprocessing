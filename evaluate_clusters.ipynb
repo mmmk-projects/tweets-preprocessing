{
 "cells": [
  {
   "cell_type": "code",
   "execution_count": 1,
   "metadata": {},
   "outputs": [],
   "source": [
    "import warnings\n",
    "warnings.filterwarnings('ignore')"
   ]
  },
  {
   "cell_type": "code",
   "execution_count": 2,
   "metadata": {},
   "outputs": [],
   "source": [
    "import pandas as pd\n",
    "\n",
    "df = pd.read_csv('./clean_text.csv')"
   ]
  },
  {
   "cell_type": "code",
   "execution_count": 3,
   "metadata": {},
   "outputs": [],
   "source": [
    "from gensim.models import KeyedVectors\n",
    "\n",
    "glove_output_file = 'glove.twitter.27B.100d.word2vec'\n",
    "model = KeyedVectors.load_word2vec_format(glove_output_file, binary=False)"
   ]
  },
  {
   "cell_type": "code",
   "execution_count": 12,
   "metadata": {},
   "outputs": [],
   "source": [
    "import numpy as np\n",
    "\n",
    "def try_map_to_vector(word):\n",
    "    try:\n",
    "        return model[word]\n",
    "    except KeyError:\n",
    "        return [0.0] * 100\n",
    "\n",
    "def create_vector(text):\n",
    "    word_vectors = [try_map_to_vector(word) for word in text.split()]\n",
    "    \n",
    "    return np.mean(word_vectors, axis=0).tolist()\n",
    "\n",
    "vectors = [create_vector(text) for text in df['clean_text'].values]"
   ]
  },
  {
   "cell_type": "code",
   "execution_count": 13,
   "metadata": {},
   "outputs": [],
   "source": [
    "from sklearn.cluster import MiniBatchKMeans\n",
    "\n",
    "kmeans = MiniBatchKMeans(n_clusters=8, batch_size=750)"
   ]
  },
  {
   "cell_type": "code",
   "execution_count": 14,
   "metadata": {},
   "outputs": [
    {
     "name": "stdout",
     "output_type": "stream",
     "text": [
      "Silhouette Coefficient: 0.047054357479257305\n",
      "Calinski-Harabaz Index: 13.231204483023264\n",
      "Davies-Bouldin Index: 3.213406742825041\n"
     ]
    }
   ],
   "source": [
    "size = 250\n",
    "start, end = 0, size\n",
    "v = vectors[start:end]\n",
    "\n",
    "clustering = kmeans.partial_fit(v)\n",
    "labels = clustering.labels_\n",
    "\n",
    "from sklearn import metrics\n",
    "\n",
    "print('Silhouette Coefficient: {}'.format(metrics.silhouette_score(v, labels)))\n",
    "print('Calinski-Harabaz Index: {}'.format(metrics.calinski_harabaz_score(v, labels)))\n",
    "print('Davies-Bouldin Index: {}'.format(metrics.davies_bouldin_score(v, labels)))"
   ]
  },
  {
   "cell_type": "code",
   "execution_count": 15,
   "metadata": {},
   "outputs": [
    {
     "name": "stdout",
     "output_type": "stream",
     "text": [
      "Silhouette Coefficient: 0.04926730356267753\n",
      "Calinski-Harabaz Index: 15.34905088622966\n",
      "Davies-Bouldin Index: 3.0845637380476703\n"
     ]
    }
   ],
   "source": [
    "start += size\n",
    "end += size\n",
    "v = vectors[start:end]\n",
    "\n",
    "clustering = kmeans.partial_fit(v)\n",
    "labels = clustering.labels_\n",
    "\n",
    "print('Silhouette Coefficient: {}'.format(metrics.silhouette_score(v, labels)))\n",
    "print('Calinski-Harabaz Index: {}'.format(metrics.calinski_harabaz_score(v, labels)))\n",
    "print('Davies-Bouldin Index: {}'.format(metrics.davies_bouldin_score(v, labels)))"
   ]
  },
  {
   "cell_type": "code",
   "execution_count": 16,
   "metadata": {},
   "outputs": [
    {
     "name": "stdout",
     "output_type": "stream",
     "text": [
      "Silhouette Coefficient: 0.04961588568537917\n",
      "Calinski-Harabaz Index: 14.579268664162775\n",
      "Davies-Bouldin Index: 3.20127680738101\n"
     ]
    }
   ],
   "source": [
    "start += size\n",
    "end += size\n",
    "v = vectors[start:end]\n",
    "\n",
    "clustering = kmeans.partial_fit(v)\n",
    "labels = clustering.labels_\n",
    "\n",
    "print('Silhouette Coefficient: {}'.format(metrics.silhouette_score(v, labels)))\n",
    "print('Calinski-Harabaz Index: {}'.format(metrics.calinski_harabaz_score(v, labels)))\n",
    "print('Davies-Bouldin Index: {}'.format(metrics.davies_bouldin_score(v, labels)))"
   ]
  },
  {
   "cell_type": "code",
   "execution_count": 17,
   "metadata": {},
   "outputs": [
    {
     "name": "stdout",
     "output_type": "stream",
     "text": [
      "Silhouette Coefficient: 0.03845198454509695\n",
      "Calinski-Harabaz Index: 12.650780098757973\n",
      "Davies-Bouldin Index: 3.3726673029462466\n"
     ]
    }
   ],
   "source": [
    "start += size\n",
    "end += size\n",
    "v = vectors[start:end]\n",
    "\n",
    "clustering = kmeans.partial_fit(v)\n",
    "labels = clustering.labels_\n",
    "\n",
    "print('Silhouette Coefficient: {}'.format(metrics.silhouette_score(v, labels)))\n",
    "print('Calinski-Harabaz Index: {}'.format(metrics.calinski_harabaz_score(v, labels)))\n",
    "print('Davies-Bouldin Index: {}'.format(metrics.davies_bouldin_score(v, labels)))"
   ]
  },
  {
   "cell_type": "code",
   "execution_count": 18,
   "metadata": {},
   "outputs": [
    {
     "name": "stdout",
     "output_type": "stream",
     "text": [
      "Silhouette Coefficient: 0.052113138080286205\n",
      "Calinski-Harabaz Index: 16.27298944075369\n",
      "Davies-Bouldin Index: 3.0977727611536947\n"
     ]
    }
   ],
   "source": [
    "start += size\n",
    "end += size\n",
    "v = vectors[start:end]\n",
    "\n",
    "clustering = kmeans.partial_fit(v)\n",
    "labels = clustering.labels_\n",
    "\n",
    "print('Silhouette Coefficient: {}'.format(metrics.silhouette_score(v, labels)))\n",
    "print('Calinski-Harabaz Index: {}'.format(metrics.calinski_harabaz_score(v, labels)))\n",
    "print('Davies-Bouldin Index: {}'.format(metrics.davies_bouldin_score(v, labels)))"
   ]
  },
  {
   "cell_type": "code",
   "execution_count": null,
   "metadata": {},
   "outputs": [],
   "source": []
  }
 ],
 "metadata": {
  "kernelspec": {
   "display_name": "Python 3",
   "language": "python",
   "name": "python3"
  },
  "language_info": {
   "codemirror_mode": {
    "name": "ipython",
    "version": 3
   },
   "file_extension": ".py",
   "mimetype": "text/x-python",
   "name": "python",
   "nbconvert_exporter": "python",
   "pygments_lexer": "ipython3",
   "version": "3.6.8"
  }
 },
 "nbformat": 4,
 "nbformat_minor": 2
}
