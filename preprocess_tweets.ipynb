{
 "cells": [
  {
   "cell_type": "code",
   "execution_count": 1,
   "metadata": {},
   "outputs": [
    {
     "name": "stdout",
     "output_type": "stream",
     "text": [
      "9988\n"
     ]
    },
    {
     "data": {
      "text/plain": [
       "0    Yes, we're still running the numbers, but we c...\n",
       "1    We're just getting started. Keep tuning into t...\n",
       "2    Cannot WAIT to see what Donald has up his slee...\n",
       "3    IT. HAS. ARRIVED. You can catch the official @...\n",
       "4    Breaking boards left and right! Watch @lizakos...\n",
       "Name: text, dtype: object"
      ]
     },
     "execution_count": 1,
     "metadata": {},
     "output_type": "execute_result"
    }
   ],
   "source": [
    "# Read from CSV file.\n",
    "\n",
    "import pandas as pd\n",
    "\n",
    "df = pd.read_csv('./scraped_tweets.csv').dropna(subset=['text'])\n",
    "\n",
    "print(len(df.index))\n",
    "df['text'].head()"
   ]
  },
  {
   "cell_type": "code",
   "execution_count": 2,
   "metadata": {},
   "outputs": [
    {
     "data": {
      "text/plain": [
       "0    Yes, we're still running the numbers, but we c...\n",
       "1    We're just getting started. Keep tuning into t...\n",
       "2    Cannot WAIT to see what Donald has up his slee...\n",
       "3    IT. HAS. ARRIVED. You can catch the official l...\n",
       "4    Breaking boards left and right! Watch and the ...\n",
       "Name: clean_text, dtype: object"
      ]
     },
     "execution_count": 2,
     "metadata": {},
     "output_type": "execute_result"
    }
   ],
   "source": [
    "# Preprocess tweets - remove @, # and links.\n",
    "\n",
    "import preprocessor as p\n",
    "\n",
    "df['clean_text'] = df['text'].apply(lambda text: p.clean(str(text)))\n",
    "\n",
    "df['clean_text'].head()"
   ]
  },
  {
   "cell_type": "code",
   "execution_count": 3,
   "metadata": {},
   "outputs": [
    {
     "data": {
      "text/plain": [
       "0    yes, we're still running the numbers, but we c...\n",
       "1    we're just getting started. keep tuning into t...\n",
       "2    cannot wait to see what donald has up his slee...\n",
       "3    it. has. arrived. you can catch the official l...\n",
       "4    breaking boards left and right! watch and the ...\n",
       "Name: clean_text, dtype: object"
      ]
     },
     "execution_count": 3,
     "metadata": {},
     "output_type": "execute_result"
    }
   ],
   "source": [
    "# Convert to lowercase.\n",
    "\n",
    "df['clean_text'] = df['clean_text'].apply(lambda text: text.lower())\n",
    "\n",
    "df['clean_text'].head()"
   ]
  },
  {
   "cell_type": "code",
   "execution_count": 4,
   "metadata": {},
   "outputs": [
    {
     "data": {
      "text/plain": [
       "0    yes, we are still running the numbers, but we ...\n",
       "1    we are just getting started. keep tuning into ...\n",
       "2    cannot wait to see what donald has up his slee...\n",
       "3    it. has. arrived. you can catch the official l...\n",
       "4    breaking boards left and right! watch and the ...\n",
       "Name: clean_text, dtype: object"
      ]
     },
     "execution_count": 4,
     "metadata": {},
     "output_type": "execute_result"
    }
   ],
   "source": [
    "# Remove contractions.\n",
    "\n",
    "import re\n",
    "\n",
    "def remove_contractions(text):\n",
    "    text = re.sub(r'’', '\\'', text)\n",
    "    \n",
    "    text = re.sub(r'won\\'t', 'will not', text)\n",
    "    text = re.sub(r'can\\'t', 'can not', text)\n",
    "    \n",
    "    text = re.sub(r'\\'s', ' is', text)\n",
    "    text = re.sub(r'\\'m', ' am', text)\n",
    "    text = re.sub(r'\\'re', ' are', text)\n",
    "    text = re.sub(r'\\'ve', ' have', text)\n",
    "    text = re.sub(r'\\'ll', ' will', text)\n",
    "    text = re.sub(r'\\'d', ' would', text)\n",
    "    text = re.sub(r'\\'t', ' not', text)\n",
    "    text = re.sub(r'n\\'t', ' not', text)\n",
    "    \n",
    "    return text\n",
    "\n",
    "df['clean_text'] = df['clean_text'].apply(remove_contractions)\n",
    "\n",
    "df['clean_text'].head()"
   ]
  },
  {
   "cell_type": "code",
   "execution_count": 5,
   "metadata": {},
   "outputs": [
    {
     "data": {
      "text/plain": [
       "0    yes we are still running the numbers but we ca...\n",
       "1    we are just getting started keep tuning into t...\n",
       "2    cannot wait to see what donald has up his slee...\n",
       "3    it has arrived you can catch the official live...\n",
       "4    breaking boards left and right watch and the v...\n",
       "Name: clean_text, dtype: object"
      ]
     },
     "execution_count": 5,
     "metadata": {},
     "output_type": "execute_result"
    }
   ],
   "source": [
    "# Remove punctuations.\n",
    "\n",
    "df['clean_text'] = df['clean_text'].str.replace('[^\\w\\s]', '')\n",
    "\n",
    "df['clean_text'].head()"
   ]
  },
  {
   "cell_type": "code",
   "execution_count": 6,
   "metadata": {},
   "outputs": [
    {
     "data": {
      "text/plain": [
       "0    yes we are still running the numbers but we ca...\n",
       "1    we are just getting started keep tuning into t...\n",
       "2    cannot wait to see what donald has up his slee...\n",
       "3    it has arrived you can catch the official live...\n",
       "4    breaking boards left and right watch and the v...\n",
       "Name: clean_text, dtype: object"
      ]
     },
     "execution_count": 6,
     "metadata": {},
     "output_type": "execute_result"
    }
   ],
   "source": [
    "# Remove whitespaces.\n",
    "\n",
    "df['clean_text'] = df['clean_text'].apply(lambda text: str(text).strip())\n",
    "\n",
    "df['clean_text'].head()"
   ]
  },
  {
   "cell_type": "code",
   "execution_count": 7,
   "metadata": {},
   "outputs": [
    {
     "name": "stdout",
     "output_type": "stream",
     "text": [
      "9729\n"
     ]
    },
    {
     "data": {
      "text/plain": [
       "0    yes we are still running the numbers but we ca...\n",
       "1    we are just getting started keep tuning into t...\n",
       "2    cannot wait to see what donald has up his slee...\n",
       "3    it has arrived you can catch the official live...\n",
       "4    breaking boards left and right watch and the v...\n",
       "Name: clean_text, dtype: object"
      ]
     },
     "execution_count": 7,
     "metadata": {},
     "output_type": "execute_result"
    }
   ],
   "source": [
    "# Remove empty texts.\n",
    "\n",
    "df = df.drop(df[df['clean_text'] == ''].index)\n",
    "\n",
    "print(len(df.index))\n",
    "df['clean_text'].head()"
   ]
  },
  {
   "cell_type": "code",
   "execution_count": 8,
   "metadata": {
    "scrolled": false
   },
   "outputs": [
    {
     "name": "stdout",
     "output_type": "stream",
     "text": [
      "9162\n"
     ]
    },
    {
     "data": {
      "text/plain": [
       "0    yes we are still running the numbers but we ca...\n",
       "1    we are just getting started keep tuning into t...\n",
       "2    cannot wait to see what donald has up his slee...\n",
       "3    it has arrived you can catch the official live...\n",
       "4    breaking boards left and right watch and the v...\n",
       "Name: clean_text, dtype: object"
      ]
     },
     "execution_count": 8,
     "metadata": {},
     "output_type": "execute_result"
    }
   ],
   "source": [
    "# Include only English texts.\n",
    "from langdetect import detect\n",
    "\n",
    "# print(\"Detecting languages: 0.00%...\", end=\"\\r\")\n",
    "# for idx, text in enumerate(df['clean_text'].values):\n",
    "#     print(\"Detecting languages: {:.2f}%...\".format((idx + 1) / len(df.index) * 100), end=\"\\r\")\n",
    "#     try:\n",
    "#         detect(text)\n",
    "#     except Exception:\n",
    "#         print('text: (', text, ')')\n",
    "\n",
    "df['lang'] = df['clean_text'].apply(lambda text: detect(text))\n",
    "df = df.drop(df[df['lang'] != 'en'].index)\n",
    "\n",
    "print(len(df.index))\n",
    "df['clean_text'].head()"
   ]
  },
  {
   "cell_type": "code",
   "execution_count": 9,
   "metadata": {},
   "outputs": [
    {
     "data": {
      "text/plain": [
       "0    yes we are still running the number but we can...\n",
       "1    we are just getting started keep tuning into t...\n",
       "2    cannot wait to see what donald ha up his sleev...\n",
       "3    it ha arrived you can catch the official lives...\n",
       "4    breaking board left and right watch and the vl...\n",
       "Name: clean_text, dtype: object"
      ]
     },
     "execution_count": 9,
     "metadata": {},
     "output_type": "execute_result"
    }
   ],
   "source": [
    "# Lemmatize texts.\n",
    "\n",
    "from nltk import word_tokenize\n",
    "from nltk.stem import WordNetLemmatizer\n",
    "\n",
    "lemmatizer = WordNetLemmatizer()\n",
    "df['clean_text'] = df['clean_text'].apply(lambda text: ' '.join(lemmatizer.lemmatize(word) for word in text.split()))\n",
    "\n",
    "df['clean_text'].head()"
   ]
  },
  {
   "cell_type": "code",
   "execution_count": 10,
   "metadata": {},
   "outputs": [
    {
     "data": {
      "text/plain": [
       "0    yes we are still running the number but we can...\n",
       "1    we are just getting keep tuning into the all w...\n",
       "2    cannot wait to see what ha up his sleeve tune ...\n",
       "3    it ha you can catch the official both weekend ...\n",
       "4    breaking board left and right watch and the tr...\n",
       "Name: clean_text, dtype: object"
      ]
     },
     "execution_count": 10,
     "metadata": {},
     "output_type": "execute_result"
    }
   ],
   "source": [
    "# Remove non-English words.\n",
    "\n",
    "from nltk.corpus import words\n",
    "words = set(words.words())\n",
    "\n",
    "df['clean_text'] = df['clean_text'].apply(lambda text: ' '.join(word for word in text.split() if word in words))\n",
    "\n",
    "df['clean_text'].head()"
   ]
  },
  {
   "cell_type": "code",
   "execution_count": 11,
   "metadata": {},
   "outputs": [
    {
     "data": {
      "text/plain": [
       "0    yes still running number confirm officially ho...\n",
       "1                     getting keep tuning weekend long\n",
       "2              cannot wait see ha sleeve tune live min\n",
       "3         ha catch official weekend music whether tune\n",
       "4      breaking board left right watch try martial art\n",
       "Name: clean_text, dtype: object"
      ]
     },
     "execution_count": 11,
     "metadata": {},
     "output_type": "execute_result"
    }
   ],
   "source": [
    "# Remove stopwords.\n",
    "\n",
    "from nltk.corpus import stopwords\n",
    "stopwords = stopwords.words('english')\n",
    "\n",
    "df['clean_text'] = df['clean_text'].apply(lambda text: ' '.join(word for word in text.split() if word not in stopwords))\n",
    "\n",
    "df['clean_text'].head()"
   ]
  },
  {
   "cell_type": "code",
   "execution_count": 12,
   "metadata": {},
   "outputs": [
    {
     "data": {
      "text/plain": [
       "new       791\n",
       "u         619\n",
       "ha        553\n",
       "today     496\n",
       "people    495\n",
       "one       490\n",
       "say       463\n",
       "wa        407\n",
       "year      396\n",
       "live      380\n",
       "dtype: int64"
      ]
     },
     "execution_count": 12,
     "metadata": {},
     "output_type": "execute_result"
    }
   ],
   "source": [
    "# Remove common words.\n",
    "\n",
    "freq = pd.Series(' '.join(df['clean_text']).split()).value_counts()[pd.Series(' '.join(df['clean_text']).split()).value_counts() > 300]\n",
    "\n",
    "freq.head(10)"
   ]
  },
  {
   "cell_type": "code",
   "execution_count": 13,
   "metadata": {},
   "outputs": [
    {
     "data": {
      "text/plain": [
       "0    yes still running number confirm officially ho...\n",
       "1                     getting keep tuning weekend long\n",
       "2                          cannot wait sleeve tune min\n",
       "3            catch official weekend music whether tune\n",
       "4            breaking board left right try martial art\n",
       "Name: clean_text, dtype: object"
      ]
     },
     "execution_count": 13,
     "metadata": {},
     "output_type": "execute_result"
    }
   ],
   "source": [
    "freq = list(freq.index)\n",
    "\n",
    "df['clean_text'] = df['clean_text'].apply(lambda text: ' '.join(word for word in text.split() if word not in freq))\n",
    "\n",
    "df['clean_text'].head()"
   ]
  },
  {
   "cell_type": "code",
   "execution_count": 14,
   "metadata": {},
   "outputs": [
    {
     "data": {
      "text/plain": [
       "observation    3\n",
       "wisely         3\n",
       "portfolio      3\n",
       "respond        3\n",
       "ur             3\n",
       "batch          3\n",
       "portrait       3\n",
       "otherwise      3\n",
       "paving         3\n",
       "immediate      3\n",
       "dtype: int64"
      ]
     },
     "execution_count": 14,
     "metadata": {},
     "output_type": "execute_result"
    }
   ],
   "source": [
    "# Remove rare words.\n",
    "\n",
    "freq = pd.Series(' '.join(df['clean_text']).split()).value_counts()[pd.Series(' '.join(df['clean_text']).split()).value_counts() <= 3]\n",
    "\n",
    "freq.head(10)"
   ]
  },
  {
   "cell_type": "code",
   "execution_count": 15,
   "metadata": {},
   "outputs": [
    {
     "data": {
      "text/plain": [
       "0    yes still running number confirm officially ho...\n",
       "1                            getting keep weekend long\n",
       "2                                     cannot wait tune\n",
       "3            catch official weekend music whether tune\n",
       "4                    breaking board left right try art\n",
       "Name: clean_text, dtype: object"
      ]
     },
     "execution_count": 15,
     "metadata": {},
     "output_type": "execute_result"
    }
   ],
   "source": [
    "freq = list(freq.index)\n",
    "\n",
    "df['clean_text'] = df['clean_text'].apply(lambda text: ' '.join(word for word in text.split() if word not in freq))\n",
    "\n",
    "df['clean_text'].head()"
   ]
  },
  {
   "cell_type": "code",
   "execution_count": 16,
   "metadata": {},
   "outputs": [
    {
     "name": "stdout",
     "output_type": "stream",
     "text": [
      "9090\n"
     ]
    },
    {
     "data": {
      "text/plain": [
       "0    yes still running number confirm officially ho...\n",
       "1                            getting keep weekend long\n",
       "2                                     cannot wait tune\n",
       "3            catch official weekend music whether tune\n",
       "4                    breaking board left right try art\n",
       "Name: clean_text, dtype: object"
      ]
     },
     "execution_count": 16,
     "metadata": {},
     "output_type": "execute_result"
    }
   ],
   "source": [
    "# Remove more empty texts.\n",
    "\n",
    "df = df.drop(df[df['clean_text'] == ''].index)\n",
    "\n",
    "print(len(df.index))\n",
    "df['clean_text'].head()"
   ]
  },
  {
   "cell_type": "code",
   "execution_count": 17,
   "metadata": {},
   "outputs": [
    {
     "data": {
      "text/plain": [
       "9090"
      ]
     },
     "execution_count": 17,
     "metadata": {},
     "output_type": "execute_result"
    }
   ],
   "source": [
    "# Write cleaned texts to CSV file.\n",
    "\n",
    "df = df.dropna(subset=['clean_text'])\n",
    "df.to_csv('./clean_text.csv', columns=['clean_text'], index=False)\n",
    "\n",
    "len(df.index)"
   ]
  }
 ],
 "metadata": {
  "kernelspec": {
   "display_name": "Python 3",
   "language": "python",
   "name": "python3"
  },
  "language_info": {
   "codemirror_mode": {
    "name": "ipython",
    "version": 3
   },
   "file_extension": ".py",
   "mimetype": "text/x-python",
   "name": "python",
   "nbconvert_exporter": "python",
   "pygments_lexer": "ipython3",
   "version": "3.7.0"
  }
 },
 "nbformat": 4,
 "nbformat_minor": 2
}
